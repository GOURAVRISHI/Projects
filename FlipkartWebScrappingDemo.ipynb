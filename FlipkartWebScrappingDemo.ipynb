{
 "cells": [
  {
   "cell_type": "code",
   "execution_count": 1,
   "id": "977176b9",
   "metadata": {},
   "outputs": [],
   "source": [
    "# Follow Flipkart Webscrapping juypyter notebook for detail explaination of webscrapping\n",
    "# Follow Jupyter notebook for understanding flask code line by line \n",
    "\n",
    "from flask import Flask, render_template, request,jsonify\n",
    "from flask_cors import CORS,cross_origin\n",
    "import requests\n",
    "from bs4 import BeautifulSoup as bs\n",
    "from urllib.request import urlopen as uReq"
   ]
  },
  {
   "cell_type": "code",
   "execution_count": 2,
   "id": "bcf7a723",
   "metadata": {},
   "outputs": [],
   "source": [
    "flipkart_url = \"https://www.flipkart.com/search?q=\" + \"iphone7\""
   ]
  },
  {
   "cell_type": "code",
   "execution_count": 3,
   "id": "f413c0f7",
   "metadata": {},
   "outputs": [
    {
     "data": {
      "text/plain": [
       "'https://www.flipkart.com/search?q=iphone7'"
      ]
     },
     "execution_count": 3,
     "metadata": {},
     "output_type": "execute_result"
    }
   ],
   "source": [
    "flipkart_url"
   ]
  },
  {
   "cell_type": "code",
   "execution_count": 4,
   "id": "9d2d2965",
   "metadata": {},
   "outputs": [
    {
     "data": {
      "text/plain": [
       "<http.client.HTTPResponse at 0x2b900906cf8>"
      ]
     },
     "execution_count": 4,
     "metadata": {},
     "output_type": "execute_result"
    }
   ],
   "source": [
    "uClient = uReq(flipkart_url)\n",
    "uClient"
   ]
  },
  {
   "cell_type": "code",
   "execution_count": 5,
   "id": "6f8056cf",
   "metadata": {},
   "outputs": [],
   "source": [
    "flipkartPage = uClient.read()"
   ]
  },
  {
   "cell_type": "code",
   "execution_count": null,
   "id": "416c0f88",
   "metadata": {},
   "outputs": [],
   "source": [
    "flipkartPage"
   ]
  },
  {
   "cell_type": "code",
   "execution_count": null,
   "id": "3d975248",
   "metadata": {},
   "outputs": [],
   "source": []
  },
  {
   "cell_type": "code",
   "execution_count": null,
   "id": "e7ce8f69",
   "metadata": {},
   "outputs": [],
   "source": []
  },
  {
   "cell_type": "code",
   "execution_count": null,
   "id": "ac79d33f",
   "metadata": {},
   "outputs": [],
   "source": []
  },
  {
   "cell_type": "code",
   "execution_count": null,
   "id": "c8fe4b24",
   "metadata": {},
   "outputs": [],
   "source": []
  },
  {
   "cell_type": "code",
   "execution_count": null,
   "id": "e03ad0ba",
   "metadata": {},
   "outputs": [],
   "source": []
  },
  {
   "cell_type": "code",
   "execution_count": null,
   "id": "1f7903b1",
   "metadata": {},
   "outputs": [],
   "source": [
    "\n",
    "uClient.close()\n",
    "flipkart_html = bs(flipkartPage, \"html.parser\")\n",
    "bigboxes = flipkart_html.findAll(\"div\", {\"class\": \"_1AtVbE col-12-12\"})\n",
    "del bigboxes[0:3]\n",
    "box = bigboxes[0]\n",
    "productLink = \"https://www.flipkart.com\" + box.div.div.div.a['href']\n",
    "prodRes = requests.get(productLink)\n",
    "prodRes.encoding='utf-8'\n",
    "prod_html = bs(prodRes.text, \"html.parser\")\n",
    "print(prod_html)\n",
    "commentboxes = prod_html.find_all('div', {'class': \"_16PBlm\"})"
   ]
  }
 ],
 "metadata": {
  "kernelspec": {
   "display_name": "Python 3",
   "language": "python",
   "name": "python3"
  },
  "language_info": {
   "codemirror_mode": {
    "name": "ipython",
    "version": 3
   },
   "file_extension": ".py",
   "mimetype": "text/x-python",
   "name": "python",
   "nbconvert_exporter": "python",
   "pygments_lexer": "ipython3",
   "version": "3.6.9"
  }
 },
 "nbformat": 4,
 "nbformat_minor": 5
}
